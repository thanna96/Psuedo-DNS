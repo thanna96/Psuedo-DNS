{
 "cells": [
  {
   "cell_type": "code",
   "execution_count": 4,
   "metadata": {
    "scrolled": true
   },
   "outputs": [
    {
     "name": "stdout",
     "output_type": "stream",
     "text": [
      "Server AS started, waiting for Client...\n",
      "dba62c07b78d8b18d7255538b4894f65   dba62c07b78d8b18d7255538b4894f65\n",
      "sending result:  TLDS1\n",
      "be7791a9b856678bfd478f636ea41100   dba62c07b78d8b18d7255538b4894f65\n",
      "5a303671cf963437b172fefd62c90b9b   cf8eab45befaf1d9aaad90400e682624\n",
      "cf8eab45befaf1d9aaad90400e682624   cf8eab45befaf1d9aaad90400e682624\n",
      "sending result:  TLDS2\n",
      "4bc2ca252ae153e4e24e213936b4ad94   5ea7cc345894e9ceedca0290ecd9166c\n",
      "5ea7cc345894e9ceedca0290ecd9166c   5ea7cc345894e9ceedca0290ecd9166c\n",
      "sending result:  TLDS2\n",
      "1b17837d50a175d48bb78efd2c544e2b   1b17837d50a175d48bb78efd2c544e2b\n",
      "sending result:  TLDS1\n",
      "b86ea03e5870a3833281d9594fadfd98   1b17837d50a175d48bb78efd2c544e2b\n"
     ]
    },
    {
     "ename": "IndexError",
     "evalue": "list index out of range",
     "output_type": "error",
     "traceback": [
      "\u001b[0;31m-------------------------------------------------------------------------\u001b[0m",
      "\u001b[0;31mIndexError\u001b[0m                              Traceback (most recent call last)",
      "\u001b[0;32m<ipython-input-4-355024701ebb>\u001b[0m in \u001b[0;36m<module>\u001b[0;34m()\u001b[0m\n\u001b[1;32m     73\u001b[0m \u001b[0;31m#Main Function\u001b[0m\u001b[0;34m\u001b[0m\u001b[0;34m\u001b[0m\u001b[0m\n\u001b[1;32m     74\u001b[0m \u001b[0;32mif\u001b[0m \u001b[0m__name__\u001b[0m \u001b[0;34m==\u001b[0m \u001b[0;34m'__main__'\u001b[0m\u001b[0;34m:\u001b[0m\u001b[0;34m\u001b[0m\u001b[0m\n\u001b[0;32m---> 75\u001b[0;31m     \u001b[0mstartServer\u001b[0m\u001b[0;34m(\u001b[0m\u001b[0;34m)\u001b[0m\u001b[0;34m\u001b[0m\u001b[0m\n\u001b[0m\u001b[1;32m     76\u001b[0m \u001b[0;34m\u001b[0m\u001b[0m\n",
      "\u001b[0;32m<ipython-input-4-355024701ebb>\u001b[0m in \u001b[0;36mstartServer\u001b[0;34m()\u001b[0m\n\u001b[1;32m     50\u001b[0m         \u001b[0mTLDS1\u001b[0m\u001b[0;34m.\u001b[0m\u001b[0msend\u001b[0m\u001b[0;34m(\u001b[0m\u001b[0minputSplit\u001b[0m\u001b[0;34m[\u001b[0m\u001b[0;36m0\u001b[0m\u001b[0;34m]\u001b[0m\u001b[0;34m.\u001b[0m\u001b[0mencode\u001b[0m\u001b[0;34m(\u001b[0m\u001b[0;34m'utf-8'\u001b[0m\u001b[0;34m)\u001b[0m\u001b[0;34m)\u001b[0m\u001b[0;34m\u001b[0m\u001b[0m\n\u001b[1;32m     51\u001b[0m         \u001b[0mdigest\u001b[0m \u001b[0;34m=\u001b[0m \u001b[0mTLDS1\u001b[0m\u001b[0;34m.\u001b[0m\u001b[0mrecv\u001b[0m\u001b[0;34m(\u001b[0m\u001b[0;36m100\u001b[0m\u001b[0;34m)\u001b[0m\u001b[0;34m.\u001b[0m\u001b[0mdecode\u001b[0m\u001b[0;34m(\u001b[0m\u001b[0;34m'utf-8'\u001b[0m\u001b[0;34m)\u001b[0m\u001b[0;34m\u001b[0m\u001b[0m\n\u001b[0;32m---> 52\u001b[0;31m         \u001b[0mprint\u001b[0m\u001b[0;34m(\u001b[0m\u001b[0mdigest\u001b[0m\u001b[0;34m,\u001b[0m\u001b[0;34m\" \"\u001b[0m\u001b[0;34m,\u001b[0m \u001b[0minputSplit\u001b[0m\u001b[0;34m[\u001b[0m\u001b[0;36m1\u001b[0m\u001b[0;34m]\u001b[0m\u001b[0;34m)\u001b[0m\u001b[0;34m\u001b[0m\u001b[0m\n\u001b[0m\u001b[1;32m     53\u001b[0m         \u001b[0;32mif\u001b[0m \u001b[0mdigest\u001b[0m \u001b[0;34m==\u001b[0m \u001b[0minputSplit\u001b[0m\u001b[0;34m[\u001b[0m\u001b[0;36m1\u001b[0m\u001b[0;34m]\u001b[0m\u001b[0;34m:\u001b[0m\u001b[0;34m\u001b[0m\u001b[0m\n\u001b[1;32m     54\u001b[0m             \u001b[0mresult\u001b[0m \u001b[0;34m=\u001b[0m \u001b[0;34m'TLDS1'\u001b[0m\u001b[0;34m\u001b[0m\u001b[0m\n",
      "\u001b[0;31mIndexError\u001b[0m: list index out of range"
     ]
    }
   ],
   "source": [
    "#Thomas Hanna Comp 352 \n",
    "#Phase 3 - AS Program - Recieves Challenge and Digest from Client, Sends Challenge to TLDS \n",
    "#Then Compares the Digest and Sends the Name of the Server to Client if it's a Match.\n",
    "#Expands on Phase 2\n",
    "\n",
    "#Imports:\n",
    "import socket\n",
    "import hmac\n",
    "\n",
    "#Port Variables:\n",
    "port = 7716\n",
    "porttlds1 = 7726\n",
    "porttlds2 = 7736\n",
    "\n",
    "end = \"endconnection\"\n",
    "\n",
    "#AS Function - \n",
    "def startServer():\n",
    "    print(\"Server AS started, waiting for Client...\")\n",
    "\n",
    "    try:\n",
    "        s = socket.socket(socket.AF_INET, socket.SOCK_STREAM)\n",
    "    except socket.error:\n",
    "        print(socket.error)\n",
    "    s.bind(('', port))\n",
    "    s.listen(1)\n",
    "    local_name = socket.gethostname()\n",
    "    local_ip = (socket.gethostbyname(local_name))\n",
    "    conn, client_ip = s.accept()\n",
    "    TLDS1 = None\n",
    "    TLDS2 = None\n",
    "\n",
    "    while True:\n",
    "        input_client = conn.recv(100).decode('utf-8')\n",
    "        if (input_client == \"endconnection\"):\n",
    "            TLDS1.send(result.encode('utf-8'))\n",
    "            TLDS2.send(result.encode('utf-8'))\n",
    "            s.close()\n",
    "            exit()\n",
    "        inputSplit = input_client.split()\n",
    "\n",
    "        if TLDS1 == None:\n",
    "            try:\n",
    "                TLDS1 = socket.socket(socket.AF_INET, socket.SOCK_STREAM)\n",
    "                #local_name = socket.gethostname()\n",
    "                TLDS1_ip = (socket.gethostbyname(\"cpp.cs.rutgers.edu\"))\n",
    "                TLDS1.connect((TLDS1_ip, porttlds1))\n",
    "            except socket.error:\n",
    "                print(socket.error)\n",
    "        TLDS1.send(inputSplit[0].encode('utf-8'))\n",
    "        digest = TLDS1.recv(100).decode('utf-8')\n",
    "        print(digest,\" \", inputSplit[1])\n",
    "        if digest == inputSplit[1]:\n",
    "            result = 'TLDS1'\n",
    "            print(\"sending result: \", result)\n",
    "            conn.send(result.encode('utf-8'))\n",
    "        \n",
    "        if TLDS2 == None:\n",
    "            try:\n",
    "                TLDS2 = socket.socket(socket.AF_INET, socket.SOCK_STREAM)\n",
    "                #local_name = socket.gethostname()\n",
    "                TLDS2_ip = (socket.gethostbyname(\"java.cs.rutgers.edu\"))\n",
    "                TLDS2.connect((TLDS2_ip, porttlds2))\n",
    "            except socket.error:\n",
    "                print(socket.error)\n",
    "        TLDS2.send(inputSplit[0].encode('utf-8'))\n",
    "        digest2 = TLDS2.recv(100).decode('utf-8')\n",
    "        print(digest2,\" \", inputSplit[1])\n",
    "        if digest2 == inputSplit[1]:\n",
    "            result = 'TLDS2'\n",
    "            print(\"sending result: \", result)\n",
    "            conn.send(result.encode('utf-8'))   \n",
    "#Main Function\n",
    "if __name__ == '__main__':  \n",
    "    startServer()\n",
    "\n"
   ]
  },
  {
   "cell_type": "markdown",
   "metadata": {},
   "source": []
  },
  {
   "cell_type": "code",
   "execution_count": null,
   "metadata": {},
   "outputs": [],
   "source": []
  },
  {
   "cell_type": "code",
   "execution_count": null,
   "metadata": {},
   "outputs": [],
   "source": []
  },
  {
   "cell_type": "code",
   "execution_count": null,
   "metadata": {},
   "outputs": [],
   "source": []
  }
 ],
 "metadata": {
  "kernelspec": {
   "display_name": "Python 2",
   "language": "python",
   "name": "python2"
  },
  "language_info": {
   "codemirror_mode": {
    "name": "ipython",
    "version": 3
   },
   "file_extension": ".py",
   "mimetype": "text/x-python",
   "name": "python",
   "nbconvert_exporter": "python",
   "pygments_lexer": "ipython3",
   "version": "3.4.8"
  }
 },
 "nbformat": 4,
 "nbformat_minor": 2
}
